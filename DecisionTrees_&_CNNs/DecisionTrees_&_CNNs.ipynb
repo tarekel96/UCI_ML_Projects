{
 "cells": [
  {
   "cell_type": "code",
   "execution_count": 1,
   "metadata": {},
   "outputs": [],
   "source": [
    "import numpy as np\n",
    "import matplotlib.pyplot as plt\n",
    "import mltools as ml"
   ]
  },
  {
   "cell_type": "code",
   "execution_count": 2,
   "metadata": {},
   "outputs": [],
   "source": [
    "SEED = 0\n",
    "np.random.seed(SEED)"
   ]
  },
  {
   "attachments": {},
   "cell_type": "markdown",
   "metadata": {},
   "source": [
    "# Problem 1"
   ]
  },
  {
   "attachments": {},
   "cell_type": "markdown",
   "metadata": {},
   "source": [
    "Setting up the data"
   ]
  },
  {
   "cell_type": "code",
   "execution_count": 3,
   "metadata": {},
   "outputs": [],
   "source": [
    "# Data Loading\n",
    "X = np.genfromtxt('data/X_train.txt', delimiter=None)\n",
    "Y = np.genfromtxt('data/Y_train.txt', delimiter=None)\n",
    "X,Y = ml.shuffleData(X,Y)"
   ]
  },
  {
   "cell_type": "code",
   "execution_count": 4,
   "metadata": {},
   "outputs": [
    {
     "data": {
      "text/plain": [
       "((200000, 14), (200000,))"
      ]
     },
     "execution_count": 4,
     "metadata": {},
     "output_type": "execute_result"
    }
   ],
   "source": [
    "X.shape, Y.shape"
   ]
  },
  {
   "attachments": {},
   "cell_type": "markdown",
   "metadata": {},
   "source": [
    "### 1.1\n",
    "- Print the minimum, maximum, mean, and the variance of all of the features."
   ]
  },
  {
   "cell_type": "code",
   "execution_count": 5,
   "metadata": {},
   "outputs": [
    {
     "name": "stdout",
     "output_type": "stream",
     "text": [
      "feature #0, feature shape = (200000,)\n",
      "min = 193.0, max = 253.0, mean = 241.79722040000001, variance = 82.69456190782384s\n",
      "feature #1, feature shape = (200000,)\n",
      "min = 190.0, max = 250.5, mean = 228.22826004999996, variance = 90.95739454607398s\n",
      "feature #2, feature shape = (200000,)\n",
      "min = 214.97, max = 252.5, mean = 241.79629755000002, variance = 35.72557959436399s\n",
      "feature #3, feature shape = (200000,)\n",
      "min = 205.42, max = 252.5, mean = 233.64929865000005, variance = 95.26085391860819s\n",
      "feature #4, feature shape = (200000,)\n",
      "min = 10.0, max = 17130.0, mean = 2867.97959, variance = 10619418.044443434s\n",
      "feature #5, feature shape = (200000,)\n",
      "min = 0.0, max = 12338.0, mean = 884.073295, variance = 3257029.8456128417s\n",
      "feature #6, feature shape = (200000,)\n",
      "min = 0.0, max = 9238.0, mean = 173.553355, variance = 740656.133623244s\n",
      "feature #7, feature shape = (200000,)\n",
      "min = 0.0, max = 35.796, mean = 3.0471957174499997, variance = 7.422442772290731s\n",
      "feature #8, feature shape = (200000,)\n",
      "min = 0.68146, max = 19.899, mean = 6.351967218049999, variance = 6.3322991319398545s\n",
      "feature #9, feature shape = (200000,)\n",
      "min = 0.0, max = 11.368, mean = 1.9252323192099996, variance = 4.284487034670785s\n",
      "feature #10, feature shape = (200000,)\n",
      "min = 0.0, max = 21.466, mean = 4.2937934886999995, variance = 4.046840868867377s\n",
      "feature #11, feature shape = (200000,)\n",
      "min = 0.0, max = 14.745, mean = 2.809471779, variance = 1.9821830277466974s\n",
      "feature #12, feature shape = (200000,)\n",
      "min = 1.0074, max = 278.71, mean = 10.3679146455, variance = 166.67925177399366s\n",
      "feature #13, feature shape = (200000,)\n",
      "min = -999.9, max = 782.5, mean = 7.8733445, variance = 1410.79679273432s\n"
     ]
    }
   ],
   "source": [
    "for i in range(X.shape[1]):\n",
    "        feature, data = i, X[:, i]\n",
    "        print(f'feature #{feature}, feature shape = {data.shape}')\n",
    "        f_min, f_max, f_mean, f_var = np.min(data), np.max(data), np.mean(data), np.var(data)\n",
    "        print(f'min = {f_min}, max = {f_max}, mean = {f_mean}, variance = {f_var}s')"
   ]
  },
  {
   "attachments": {},
   "cell_type": "markdown",
   "metadata": {},
   "source": [
    "### 1.2\n",
    "- Split the dataset, and rescale each into training and validation, as:"
   ]
  },
  {
   "cell_type": "code",
   "execution_count": 6,
   "metadata": {},
   "outputs": [],
   "source": [
    "Xtr, Xva, Ytr, Yva = ml.splitData(X, Y)\n",
    "Xt, Yt = Xtr[:], Ytr[:] # subsample for efficiency (you can go higher)\n",
    "XtS, params = ml.rescale(Xt) # Normalize the features\n",
    "XvS, _ = ml.rescale(Xva, params) # Normalize the features"
   ]
  },
  {
   "cell_type": "code",
   "execution_count": 7,
   "metadata": {},
   "outputs": [
    {
     "name": "stdout",
     "output_type": "stream",
     "text": [
      "feature #0, feature shape = (160000,)\n",
      "min = -5.356424108046463, max = 1.231390995438887, mean = -1.2448972963596815e-13, variance = 1.0000000000002056s\n",
      "feature #1, feature shape = (160000,)\n",
      "min = -4.006355734220892, max = 2.3350563187306888, mean = -4.5786485713961156e-15, variance = 0.9999999999998604s\n",
      "feature #2, feature shape = (160000,)\n",
      "min = -4.489482476053577, max = 1.792460796550452, mean = 9.803199141344975e-13, variance = 1.000000000000054s\n",
      "feature #3, feature shape = (160000,)\n",
      "min = -2.8901512827783282, max = 1.9304937389818781, mean = 1.9394041927967008e-13, variance = 1.0000000000001534s\n",
      "feature #4, feature shape = (160000,)\n",
      "min = -0.875327460869565, max = 4.374786677447262, mean = 5.409006575973763e-17, variance = 0.9999999999999709s\n",
      "feature #5, feature shape = (160000,)\n",
      "min = -0.489731761445261, max = 6.346198659708712, mean = -3.6681768733615175e-17, variance = 0.9999999999993734s\n",
      "feature #6, feature shape = (160000,)\n",
      "min = -0.20112040756332397, max = 10.508802081810787, mean = -2.2115642650533117e-17, variance = 1.0000000000018034s\n",
      "feature #7, feature shape = (160000,)\n",
      "min = -1.1177147629971314, max = 12.019569517743719, mean = -4.1330672218009566e-14, variance = 1.0000000000000477s\n",
      "feature #8, feature shape = (160000,)\n",
      "min = -2.253077929684191, max = 5.380372985668884, mean = 1.21929666363485e-13, variance = 0.9999999999999883s\n",
      "feature #9, feature shape = (160000,)\n",
      "min = -0.9311416071183991, max = 4.560730398998514, mean = 4.3916603686966484e-14, variance = 1.000000000000213s\n",
      "feature #10, feature shape = (160000,)\n",
      "min = -2.1358151070538987, max = 8.531602916231082, mean = 2.382094521635736e-14, variance = 1.0000000000000173s\n",
      "feature #11, feature shape = (160000,)\n",
      "min = -1.9993903080147442, max = 8.485441773807995, mean = 6.790408235701761e-14, variance = 0.9999999999999968s\n",
      "feature #12, feature shape = (160000,)\n",
      "min = -0.7228409343091717, max = 20.738653262435445, mean = -1.737747723495886e-14, variance = 0.9999999999990876s\n",
      "feature #13, feature shape = (160000,)\n",
      "min = -26.440876159026576, max = 20.325314255179606, mean = -1.6624701615342019e-15, variance = 0.9999999999982238s\n"
     ]
    }
   ],
   "source": [
    "for i in range(XtS.shape[1]):\n",
    "        feature, data = i, XtS[:, i]\n",
    "        print(f'feature #{feature}, feature shape = {data.shape}')\n",
    "        f_min, f_max, f_mean, f_var = np.min(data), np.max(data), np.mean(data), np.var(data)\n",
    "        print(f'min = {f_min}, max = {f_max}, mean = {f_mean}, variance = {f_var}s')"
   ]
  },
  {
   "attachments": {},
   "cell_type": "markdown",
   "metadata": {},
   "source": [
    "# Problem 2"
   ]
  },
  {
   "attachments": {},
   "cell_type": "markdown",
   "metadata": {},
   "source": [
    "## Decision Trees"
   ]
  },
  {
   "attachments": {},
   "cell_type": "markdown",
   "metadata": {},
   "source": [
    "### 2.1\n",
    "- Keeping minParent=2 and minLeaf=1, vary maxDepth to a range of your choosing, and plot the training and validation AUC. "
   ]
  },
  {
   "cell_type": "code",
   "execution_count": 8,
   "metadata": {},
   "outputs": [],
   "source": [
    "def plot_auc(param_range, train_auc, test_auc):\n",
    "    fig, ax = plt.subplots()\n",
    "    # x-axis\n",
    "    ax.plot(param_range, train_auc, label=\"Training score\", color=\"blue\")\n",
    "    # y-axis\n",
    "    ax.plot(param_range, test_auc, label=\"Validation score\", color=\"red\")\n",
    " \n",
    "    ax.set_title(\"Training and Validation Scores\")\n",
    "    ax.set_xlabel(\"Max Depth\")\n",
    "    ax.set_ylabel(\"Accuracy Score\")\n",
    "    ax.set_xticks(param_range)\n",
    "\n",
    "    ax.legend(loc=\"best\")\n",
    "    plt.show()"
   ]
  },
  {
   "cell_type": "code",
   "execution_count": 9,
   "metadata": {},
   "outputs": [],
   "source": [
    "def plot_hyperparameters(x_param_range, x1,\n",
    "    x1_label, x2, x2_label, y1, y2, title, xlabel, ylabel):\n",
    "    \n",
    "    fig, ax = plt.subplots()\n",
    "    # x1 = varying maxDepths, y1 = num of nodes\n",
    "    ax.plot(x1, y1, label=x1_label, color=\"blue\")\n",
    "    # x2 = varying maxDepths at different minLeaf, y2 = num of nodes\n",
    "    ax.plot(x2, y2, label=x2_label, color=\"red\")\n",
    "\n",
    "    ax.set_title(title)\n",
    "    ax.set_xlabel(xlabel)\n",
    "    ax.set_xticks(x_param_range)\n",
    "    ax.set_ylabel(ylabel)\n",
    "\n",
    "    ax.legend(loc=\"best\")\n",
    "    plt.show()\n"
   ]
  },
  {
   "cell_type": "code",
   "execution_count": 10,
   "metadata": {},
   "outputs": [],
   "source": [
    "# 2.1 decision tree hyperparameters\n",
    "minParent = 2\n",
    "minLeaf = 1\n",
    "max_depths = np.arange(5, 30, 5)"
   ]
  },
  {
   "cell_type": "code",
   "execution_count": 11,
   "metadata": {},
   "outputs": [
    {
     "data": {
      "text/plain": [
       "array([ 5, 10, 15, 20, 25])"
      ]
     },
     "execution_count": 11,
     "metadata": {},
     "output_type": "execute_result"
    }
   ],
   "source": [
    "max_depths"
   ]
  },
  {
   "cell_type": "code",
   "execution_count": 12,
   "metadata": {},
   "outputs": [
    {
     "name": "stdout",
     "output_type": "stream",
     "text": [
      "maxDepth=5, minParent=2, minLeaf=1, num_nodes=63, training_auc=0.6802470794015942, validation_auc=0.6726391660514841\n",
      "maxDepth=10, minParent=2, minLeaf=1, num_nodes=1889, training_auc=0.733116364053804, validation_auc=0.7069586634934072\n",
      "maxDepth=15, minParent=2, minLeaf=1, num_nodes=19823, training_auc=0.8152766562845822, validation_auc=0.7288880631284261\n",
      "maxDepth=20, minParent=2, minLeaf=1, num_nodes=71133, training_auc=0.8938157114505115, validation_auc=0.7302385584015104\n",
      "maxDepth=25, minParent=2, minLeaf=1, num_nodes=137447, training_auc=0.9431615573687917, validation_auc=0.719242576669533\n"
     ]
    }
   ],
   "source": [
    "training_auc_scores = []\n",
    "validation_auc_scores = []\n",
    "num_nodes_per_model = []\n",
    "for maxDepth in max_depths:\n",
    "        learner = ml.dtree.treeClassify(XtS, Yt, maxDepth=maxDepth, minParent=minParent, minLeaf=minLeaf)\n",
    "        # get scores\n",
    "        training_auc = learner.auc(XtS, Ytr)\n",
    "        validation_auc = learner.auc(XvS, Yva)\n",
    "        # get node count\n",
    "        num_nodes = learner.sz\n",
    "        print(f'{maxDepth=}, {minParent=}, {minLeaf=}, {num_nodes=}, {training_auc=}, {validation_auc=}')\n",
    "        # append scores to lists\n",
    "        training_auc_scores.append(training_auc)\n",
    "        validation_auc_scores.append(validation_auc)\n",
    "        num_nodes_per_model.append(num_nodes)"
   ]
  },
  {
   "cell_type": "code",
   "execution_count": 13,
   "metadata": {},
   "outputs": [
    {
     "data": {
      "image/png": "[encoded data removed]",
      "text/plain": [
       "<Figure size 432x288 with 1 Axes>"
      ]
     },
     "metadata": {
      "needs_background": "light"
     },
     "output_type": "display_data"
    }
   ],
   "source": [
    "plot_auc(max_depths, training_auc_scores, validation_auc_scores)"
   ]
  },
  {
   "attachments": {},
   "cell_type": "markdown",
   "metadata": {},
   "source": [
    "### 2.2\n",
    "- Plot the number of nodes in the tree as maxDepth is varied (using learner.sz).\n",
    "- Plot another line in this plot by increasing either minParent or minLeaf (choose either, and by how much)."
   ]
  },
  {
   "cell_type": "code",
   "execution_count": 14,
   "metadata": {},
   "outputs": [
    {
     "name": "stdout",
     "output_type": "stream",
     "text": [
      "maxDepth=5, minParent=2, minLeaf=4, num_nodes=63, training_auc=0.6802470794015942, validation_auc=0.6726391660514841\n",
      "maxDepth=10, minParent=2, minLeaf=4, num_nodes=1661, training_auc=0.7326342123229652, validation_auc=0.7070601407171536\n",
      "maxDepth=15, minParent=2, minLeaf=4, num_nodes=11811, training_auc=0.8127309980704159, validation_auc=0.7300873341318402\n",
      "maxDepth=20, minParent=2, minLeaf=4, num_nodes=31129, training_auc=0.883926101008259, validation_auc=0.7346448520321841\n",
      "maxDepth=25, minParent=2, minLeaf=4, num_nodes=48315, training_auc=0.9224596582613404, validation_auc=0.7321330055595652\n"
     ]
    }
   ],
   "source": [
    "# same code as above except using a different minLeaf value of 4\n",
    "minLeaf = 4\n",
    "training_auc_scores_2 = []\n",
    "validation_auc_scores_2 = []\n",
    "num_nodes_per_model_2 = []\n",
    "for maxDepth in max_depths:\n",
    "        learner = ml.dtree.treeClassify(XtS, Yt, maxDepth=maxDepth, minParent=minParent, minLeaf=minLeaf)\n",
    "        # get scores\n",
    "        training_auc = learner.auc(XtS, Ytr)\n",
    "        validation_auc = learner.auc(XvS, Yva)\n",
    "        # get node count\n",
    "        num_nodes = learner.sz\n",
    "        print(f'{maxDepth=}, {minParent=}, {minLeaf=}, {num_nodes=}, {training_auc=}, {validation_auc=}')\n",
    "        # append scores to lists\n",
    "        training_auc_scores_2.append(training_auc)\n",
    "        validation_auc_scores_2.append(validation_auc)\n",
    "        num_nodes_per_model_2.append(num_nodes)"
   ]
  },
  {
   "cell_type": "code",
   "execution_count": 15,
   "metadata": {},
   "outputs": [
    {
     "data": {
      "image/png": "[encoded data removed]",
      "text/plain": [
       "<Figure size 432x288 with 1 Axes>"
      ]
     },
     "metadata": {
      "needs_background": "light"
     },
     "output_type": "display_data"
    }
   ],
   "source": [
    "plot_hyperparameters(max_depths, x1=max_depths, \\\n",
    "        x1_label=\"minLeaf=1\", x2=max_depths, x2_label=\"minLeaf=4\",\\\n",
    "        y1=num_nodes_per_model, y2=num_nodes_per_model_2,\\\n",
    "        title=\"Number of nodes for different maxDepth\",\\\n",
    "        xlabel=\"maxDepth\", ylabel=\"Number of Nodes\")"
   ]
  },
  {
   "attachments": {},
   "cell_type": "markdown",
   "metadata": {},
   "source": [
    "### 2.3\n",
    "- Set maxDepth to a fixed value, and plot the training and validation performance of the other two hyper- parameters in an appropriate range, using the same 2D plot we used for nearest-neighbors. Show the plots, and recommend a choice for minParent and minLeaf based on these results."
   ]
  },
  {
   "cell_type": "code",
   "execution_count": 16,
   "metadata": {},
   "outputs": [],
   "source": [
    "# hyperparameters\n",
    "maxDepth = 10\n",
    "minParents = np.arange(2,10,1)\n",
    "minLeaves = np.arange(1,10,1)"
   ]
  },
  {
   "cell_type": "code",
   "execution_count": 17,
   "metadata": {},
   "outputs": [],
   "source": [
    "tr_auc = np.zeros((len(minParents),len(minLeaves)))\n",
    "va_auc = np.zeros((len(minParents),len(minLeaves)))\n",
    "for i,p in enumerate(minParents):\n",
    "  for j,l in enumerate(minLeaves):\n",
    "    learner = ml.dtree.treeClassify(XtS, Yt, maxDepth=maxDepth, minParent=minParent, minLeaf=minLeaf)\n",
    "    tr_auc[i][j] = learner.auc(XtS, Ytr) # train learner using k and a\n",
    "    va_auc[i][j] = learner.auc(XvS, Yva)"
   ]
  },
  {
   "cell_type": "code",
   "execution_count": 18,
   "metadata": {},
   "outputs": [
    {
     "name": "stderr",
     "output_type": "stream",
     "text": [
      "<ipython-input-18-359d135a8a42>:5: UserWarning: FixedFormatter should only be used together with FixedLocator\n",
      "  ax.set_xticklabels(minParents)\n",
      "<ipython-input-18-359d135a8a42>:6: UserWarning: FixedFormatter should only be used together with FixedLocator\n",
      "  ax.set_yticklabels(minLeaves)\n"
     ]
    },
    {
     "data": {
      "image/png": "[encoded data removed]",
      "text/plain": [
       "<Figure size 576x360 with 2 Axes>"
      ]
     },
     "metadata": {
      "needs_background": "light"
     },
     "output_type": "display_data"
    }
   ],
   "source": [
    "# Plotting training matrix\n",
    "f, ax = plt.subplots(1, 1, figsize=(8, 5))\n",
    "cax = ax.matshow(tr_auc, interpolation='nearest')\n",
    "f.colorbar(cax)\n",
    "ax.set_xticklabels(minParents)\n",
    "ax.set_yticklabels(minLeaves)\n",
    "plt.show()"
   ]
  },
  {
   "cell_type": "code",
   "execution_count": 19,
   "metadata": {},
   "outputs": [
    {
     "name": "stderr",
     "output_type": "stream",
     "text": [
      "<ipython-input-19-2e7ccf4cde4b>:5: UserWarning: FixedFormatter should only be used together with FixedLocator\n",
      "  ax.set_xticklabels(minParents)\n",
      "<ipython-input-19-2e7ccf4cde4b>:6: UserWarning: FixedFormatter should only be used together with FixedLocator\n",
      "  ax.set_yticklabels(minLeaves)\n"
     ]
    },
    {
     "data": {
      "image/png": "[encoded data removed]",
      "text/plain": [
       "<Figure size 576x360 with 2 Axes>"
      ]
     },
     "metadata": {
      "needs_background": "light"
     },
     "output_type": "display_data"
    }
   ],
   "source": [
    "# Plotting validation matrix\n",
    "f, ax = plt.subplots(1, 1, figsize=(8, 5))\n",
    "cax = ax.matshow(va_auc, interpolation='nearest')\n",
    "f.colorbar(cax)\n",
    "ax.set_xticklabels(minParents)\n",
    "ax.set_yticklabels(minLeaves)\n",
    "plt.show()"
   ]
  },
  {
   "cell_type": "markdown",
   "metadata": {},
   "source": [
    "# Problem 3"
   ]
  },
  {
   "cell_type": "code",
   "execution_count": 1,
   "metadata": {},
   "outputs": [],
   "source": [
    "import numpy as np\n",
    "from datetime import datetime \n",
    "\n",
    "import torch\n",
    "import torch.nn as nn\n",
    "import torch.nn.functional as F\n",
    "from torch.utils.data import DataLoader\n",
    "\n",
    "from torchvision import datasets, transforms\n",
    "\n",
    "%matplotlib inline\n",
    "import matplotlib.pyplot as plt"
   ]
  },
  {
   "cell_type": "code",
   "execution_count": 2,
   "metadata": {},
   "outputs": [],
   "source": [
    "# define transforms\n",
    "transforms = transforms.Compose([transforms.Resize((32, 32)),\n",
    "                                 transforms.ToTensor()])\n",
    "\n",
    "# download and create datasets\n",
    "train_dataset = datasets.MNIST(root='mnist_data', \n",
    "                               train=True, \n",
    "                               transform=transforms,\n",
    "                               download=True)\n",
    "\n",
    "valid_dataset = datasets.MNIST(root='mnist_data', \n",
    "                               train=False, \n",
    "                               transform=transforms)"
   ]
  },
  {
   "attachments": {},
   "cell_type": "markdown",
   "metadata": {},
   "source": [
    "## 3.1.1\n",
    "- Visualization of the MNIST dataset. Visualize the first image and its label from the training dataset. It should be an image of handwritten '5'."
   ]
  },
  {
   "cell_type": "code",
   "execution_count": 3,
   "metadata": {},
   "outputs": [
    {
     "data": {
      "text/plain": [
       "(torch.Size([60000]), torch.Size([10000]))"
      ]
     },
     "execution_count": 3,
     "metadata": {},
     "output_type": "execute_result"
    }
   ],
   "source": [
    "train_dataset.targets.size(), valid_dataset.targets.size()"
   ]
  },
  {
   "cell_type": "code",
   "execution_count": 4,
   "metadata": {},
   "outputs": [
    {
     "data": {
      "text/plain": [
       "(torch.Size([1, 32, 32]), 5)"
      ]
     },
     "execution_count": 4,
     "metadata": {},
     "output_type": "execute_result"
    }
   ],
   "source": [
    "train_dataset[0][0].size(), train_dataset[0][1]"
   ]
  },
  {
   "cell_type": "code",
   "execution_count": 5,
   "metadata": {},
   "outputs": [
    {
     "data": {
      "text/plain": [
       "Text(10, -2, 'The label is 5')"
      ]
     },
     "execution_count": 5,
     "metadata": {},
     "output_type": "execute_result"
    },
    {
     "data": {
      "image/png": "[encoded data removed]",
      "text/plain": [
       "<Figure size 640x480 with 1 Axes>"
      ]
     },
     "metadata": {},
     "output_type": "display_data"
    }
   ],
   "source": [
    "plt.imshow(train_dataset[0][0].reshape(32,32), cmap='gray')\n",
    "plt.text(10, -2, 'The label is ' + str(train_dataset[0][1]))"
   ]
  },
  {
   "cell_type": "code",
   "execution_count": 6,
   "metadata": {},
   "outputs": [],
   "source": [
    "# hyper parameters\n",
    "RANDOM_SEED = 42\n",
    "LEARNING_RATE = 0.001\n",
    "BATCH_SIZE = 32\n",
    "N_EPOCHS = 15\n",
    "\n",
    "IMG_SIZE = 32\n",
    "N_CLASSES = 10"
   ]
  },
  {
   "attachments": {},
   "cell_type": "markdown",
   "metadata": {},
   "source": [
    "## 3.1.2\n",
    "- Create dataloaders for training and test sets"
   ]
  },
  {
   "cell_type": "code",
   "execution_count": 7,
   "metadata": {},
   "outputs": [],
   "source": [
    "# define the data loaders\n",
    "train_loader = DataLoader(dataset=train_dataset, \n",
    "                          batch_size=BATCH_SIZE, \n",
    "                          shuffle=True)\n",
    "\n",
    "valid_loader = DataLoader(dataset=valid_dataset, \n",
    "                          batch_size=BATCH_SIZE, \n",
    "                          shuffle=True)"
   ]
  },
  {
   "attachments": {},
   "cell_type": "markdown",
   "metadata": {},
   "source": [
    "## 3.1.3\n",
    "- Implement the function for training one epoch, train()"
   ]
  },
  {
   "cell_type": "code",
   "execution_count": 8,
   "metadata": {},
   "outputs": [],
   "source": [
    "\n",
    "def train(train_loader, model, criterion, optimizer):\n",
    "    '''\n",
    "    Train one epoch.\n",
    "    '''\n",
    "\n",
    "    model.train()\n",
    "    running_loss = 0\n",
    "    \n",
    "    for X, y_true in train_loader:\n",
    "\n",
    "        # reset gradient to 0\n",
    "        optimizer.zero_grad()\n",
    "\n",
    "        # Forward pass\n",
    "        y_hat, _ = model(X) \n",
    "        loss = criterion(y_hat, y_true)\n",
    "        running_loss += loss.item() * X.size(0)\n",
    "\n",
    "        # Backward pass\n",
    "        # backpropagate gradient\n",
    "        loss.backward()\n",
    "\n",
    "        optimizer.step()  # update the parameters in the model\n",
    "        \n",
    "    epoch_loss = running_loss / len(train_loader.dataset)\n",
    "    return model, optimizer, epoch_loss"
   ]
  },
  {
   "attachments": {},
   "cell_type": "markdown",
   "metadata": {},
   "source": [
    "## 3.1.4\n",
    "- Implement the function for validating the model, validate()"
   ]
  },
  {
   "cell_type": "code",
   "execution_count": 9,
   "metadata": {},
   "outputs": [],
   "source": [
    "def validate(valid_loader, model, criterion):\n",
    "    '''\n",
    "    Function for the validation step of the training loop.\n",
    "    Returns the model and the loss on the test set.\n",
    "    '''\n",
    "   \n",
    "    #model......\n",
    "    model.train()\n",
    "    running_loss = 0\n",
    "    \n",
    "    for X, y_true in valid_loader:\n",
    "\n",
    "        # Forward pass and record loss\n",
    "        y_hat, _ = model(X) \n",
    "        loss = criterion(y_hat, y_true)        \n",
    "    \n",
    "        running_loss += loss.item() * X.size(0)\n",
    "\n",
    "    epoch_loss = running_loss / len(valid_loader.dataset)\n",
    "        \n",
    "    return model, epoch_loss"
   ]
  },
  {
   "cell_type": "code",
   "execution_count": 10,
   "metadata": {},
   "outputs": [],
   "source": [
    "def training_loop(model, criterion, optimizer, train_loader, valid_loader, epochs, print_every=1):\n",
    "    '''\n",
    "    Function defining the entire training loop\n",
    "    '''\n",
    "    \n",
    "    # set objects for storing metrics\n",
    "    best_loss = 1e10\n",
    "    train_losses = []\n",
    "    valid_losses = []\n",
    "    train_accs = []\n",
    "    valid_accs = []\n",
    " \n",
    "    # Train model\n",
    "    for epoch in range(0, epochs):\n",
    "\n",
    "        # training\n",
    "        model, optimizer, train_loss = train(train_loader, model, criterion, optimizer)\n",
    "        train_losses.append(train_loss)\n",
    "\n",
    "        # validation\n",
    "        with torch.no_grad():\n",
    "            model, valid_loss = validate(valid_loader, model, criterion)\n",
    "            valid_losses.append(valid_loss)\n",
    "\n",
    "        if epoch % print_every == (print_every - 1):\n",
    "            \n",
    "            train_acc = get_accuracy(model, train_loader,)\n",
    "            train_accs.append(train_acc)\n",
    "            valid_acc = get_accuracy(model, valid_loader)\n",
    "            valid_accs.append(valid_acc)\n",
    "                \n",
    "            print(f'{datetime.now().time().replace(microsecond=0)} '\n",
    "                  f'Epoch: {epoch}\\t'\n",
    "                  f'Train loss: {train_loss:.4f}\\t'\n",
    "                  f'Valid loss: {valid_loss:.4f}\\t'\n",
    "                  f'Train accuracy: {100 * train_acc:.2f}\\t'\n",
    "                  f'Valid accuracy: {100 * valid_acc:.2f}')\n",
    "    \n",
    "    performance = {\n",
    "        'train_losses':train_losses,\n",
    "        'valid_losses': valid_losses,\n",
    "        'train_acc': train_accs,\n",
    "        'valid_acc':valid_accs\n",
    "    }\n",
    "    \n",
    "    return model, optimizer, performance"
   ]
  },
  {
   "attachments": {},
   "cell_type": "markdown",
   "metadata": {},
   "source": [
    "## 3.1.5\n",
    "- Implement the function for calculating the prediction accuracy, get_accuracy()"
   ]
  },
  {
   "cell_type": "code",
   "execution_count": 11,
   "metadata": {},
   "outputs": [],
   "source": [
    "def get_accuracy(model, data_loader):\n",
    "    '''\n",
    "    Function for computing the accuracy of the predictions over the entire data_loader\n",
    "    '''\n",
    "    \n",
    "    correct_pred = 0 \n",
    "    n = 0\n",
    "    \n",
    "    with torch.no_grad():\n",
    "        # Sets the module in evaluation mode. Equivalent to self.train(False)\n",
    "        model.eval()\n",
    "        for X, y_true in data_loader:\n",
    "\n",
    "            # return probabilities of different class labels\n",
    "            _, y_prob = model(X)\n",
    "            # predicted labels are the labels with the highest probability\n",
    "            _, predicted_labels = torch.max(y_prob, dim=1)\n",
    "\n",
    "            n += y_true.size(0)\n",
    "            correct_pred += (predicted_labels == y_true).sum()\n",
    "\n",
    "    return correct_pred.float() / n\n",
    "\n",
    "\n",
    "    \n",
    "def plot_performance(performance):\n",
    "    '''\n",
    "    Function for plotting training and validation losses\n",
    "    '''\n",
    "    \n",
    "    # temporarily change the style of the plots to seaborn \n",
    "    plt.style.use('seaborn')\n",
    "\n",
    "    fig, ax = plt.subplots(1, 2, figsize = (16, 4.5))\n",
    "    for key, value in performance.items():\n",
    "        if 'loss' in key:\n",
    "            ax[0].plot(value, label=key) \n",
    "        else:\n",
    "            ax[1].plot(value, label=key) \n",
    "    ax[0].set(title=\"Loss  over epochs\", \n",
    "            xlabel='Epoch',\n",
    "            ylabel='Loss')\n",
    "    ax[1].set(title=\"accuracy over epochs\", \n",
    "            xlabel='Epoch',\n",
    "            ylabel='Loss')\n",
    "    ax[0].legend()\n",
    "    ax[1].legend()\n",
    "    plt.show()\n",
    "    \n",
    "    # change the plot style to default\n",
    "    plt.style.use('default')    "
   ]
  },
  {
   "attachments": {},
   "cell_type": "markdown",
   "metadata": {},
   "source": [
    "## 3.2.1\n",
    "- complete the class definition of the LeNet model"
   ]
  },
  {
   "cell_type": "code",
   "execution_count": 96,
   "metadata": {},
   "outputs": [],
   "source": [
    "class LeNet5(nn.Module):\n",
    "\n",
    "    def __init__(self, n_classes):\n",
    "        super(LeNet5, self).__init__()\n",
    "        \n",
    "        # hidden layers of LeNet5 NN\n",
    "        self.feature_transformer = nn.Sequential(   \n",
    "            # first convolutional layer - output 6 channels\n",
    "            nn.Conv2d(in_channels= 1, out_channels=6, kernel_size=(5,5), stride=1),\n",
    "            # tanh activation function on output of first layer\n",
    "            nn.Tanh(),\n",
    "            # Applies a 2D average pooling\n",
    "            nn.AvgPool2d(kernel_size=(2,2)),\n",
    "            # second convolutional layer - output 16 channels\n",
    "            nn.Conv2d(in_channels=6, out_channels=16, kernel_size=(5,5), stride=1),\n",
    "            # tanh activation function on output of second layer\n",
    "            nn.Tanh(),\n",
    "            # Applies a 2D average pooling\n",
    "            nn.AvgPool2d(kernel_size=(2,2)),\n",
    "            # third convolutional layer - output 120 channels\n",
    "            nn.Conv2d(in_channels=16, out_channels=120, kernel_size=(5,5), stride=1),\n",
    "            # tanh activation function on output of third layer\n",
    "            nn.Tanh()\n",
    "        )\n",
    "\n",
    "        self.classifier = nn.Sequential(\n",
    "            # 1st Fully Connected layer\n",
    "            # input is 120 features/channels from third convolutional layer - output is 84 features\n",
    "            nn.Linear(in_features=120, out_features=84),\n",
    "            # tanh activation function on output of 1st Fully Connected layer\n",
    "            nn.Tanh(),\n",
    "            # 2nd Fully Connected layer\n",
    "            # input is 84 features/channels - output is n_classes (10) features representing the 10 different classes\n",
    "            nn.Linear(in_features=84, out_features=n_classes)\n",
    "        )\n",
    "\n",
    "\n",
    "    def forward(self, x):\n",
    "        # transform images via hidden layers of LeNet5 model\n",
    "        transformed_x_features = self.feature_transformer(x)\n",
    "        # flatten transformed features into a vector\n",
    "        x = torch.flatten(transformed_x_features, start_dim=1)\n",
    "        logits = self.classifier(x)\n",
    "        probs = F.softmax(logits, dim=1)\n",
    "        return logits, probs"
   ]
  },
  {
   "attachments": {},
   "cell_type": "markdown",
   "metadata": {},
   "source": [
    "## 3.2.2\n",
    "- Complete the codes inside class MLP. The construction function takes an argument layers. layers[0] is the input dimension, layers[-1] is the number of classes, while layers[1:-1] are the numbers of nodes of hidden layers. Each hidden layer should be followed by a non-linear activation function. In this homework, we use tanh."
   ]
  },
  {
   "cell_type": "code",
   "execution_count": 21,
   "metadata": {},
   "outputs": [],
   "source": [
    "class MLP(nn.Module):\n",
    "\n",
    "    def __init__(self, layers):\n",
    "        super(MLP, self).__init__()\n",
    " \n",
    "        self.input_dims = layers[0]\n",
    "        self.hidden_units = layers[1:-1]\n",
    "        self.n_classes = layers[-1]\n",
    "        \n",
    "        feature_transformer = []\n",
    "        \n",
    "        # input layer\n",
    "        feature_transformer.append(nn.Linear(in_features=self.input_dims, out_features=layers[1]))\n",
    "        feature_transformer.append(nn.Tanh())\n",
    "        # hidden layers\n",
    "        for i, n_nodes in enumerate(self.hidden_units[:-1]):\n",
    "            feature_transformer.append(nn.Linear(in_features=n_nodes, out_features=self.hidden_units[i+1]))\n",
    "            feature_transformer.append(nn.Tanh())\n",
    "        \n",
    "        feature_transformer = tuple(feature_transformer)\n",
    "        # * to extract the tuple component-wise\n",
    "        self.feature_transformer = nn.Sequential(*feature_transformer)\n",
    "\n",
    "        # classifier takes in the output of the hidden layers\n",
    "        self.classifier = nn.Sequential(\n",
    "            nn.Linear(in_features=self.hidden_units[-1], out_features=self.n_classes)\n",
    "        )\n",
    "\n",
    "    def forward(self, x):\n",
    "        # reshape input\n",
    "        x = x.view(-1, self.input_dims)\n",
    "        #transform images via hidden layers of multilayer perceptron model\n",
    "        transformed_x_features = self.feature_transformer(x)\n",
    "        # flatten transformed features into a vector to be able to pass into classifier\n",
    "        x = torch.flatten(transformed_x_features, start_dim=1)\n",
    "        logits = self.classifier(x)\n",
    "        # calculate probabilities for each n_class using softmax\n",
    "        probs = F.softmax(logits, dim=1)\n",
    "        return logits, probs"
   ]
  },
  {
   "attachments": {},
   "cell_type": "markdown",
   "metadata": {},
   "source": [
    "## 3.3.1\n",
    "- Train the LeNet, by calling training_loop() . Plot and report the performance."
   ]
  },
  {
   "cell_type": "code",
   "execution_count": 98,
   "metadata": {},
   "outputs": [],
   "source": [
    "torch.manual_seed(RANDOM_SEED)\n",
    "\n",
    "model = LeNet5(N_CLASSES)\n",
    "optimizer = torch.optim.Adam(model.parameters(), lr=LEARNING_RATE)\n",
    "criterion = nn.CrossEntropyLoss()"
   ]
  },
  {
   "cell_type": "code",
   "execution_count": 99,
   "metadata": {},
   "outputs": [
    {
     "name": "stdout",
     "output_type": "stream",
     "text": [
      "18:37:03 Epoch: 0\tTrain loss: 0.2290\tValid loss: 0.1020\tTrain accuracy: 96.84\tValid accuracy: 96.81\n",
      "18:37:35 Epoch: 1\tTrain loss: 0.0766\tValid loss: 0.0681\tTrain accuracy: 98.20\tValid accuracy: 97.95\n",
      "18:38:14 Epoch: 2\tTrain loss: 0.0538\tValid loss: 0.0573\tTrain accuracy: 98.59\tValid accuracy: 98.25\n",
      "18:38:47 Epoch: 3\tTrain loss: 0.0432\tValid loss: 0.0473\tTrain accuracy: 99.04\tValid accuracy: 98.53\n",
      "18:39:20 Epoch: 4\tTrain loss: 0.0347\tValid loss: 0.0533\tTrain accuracy: 99.08\tValid accuracy: 98.26\n",
      "18:39:53 Epoch: 5\tTrain loss: 0.0313\tValid loss: 0.0486\tTrain accuracy: 99.14\tValid accuracy: 98.52\n",
      "18:40:23 Epoch: 6\tTrain loss: 0.0263\tValid loss: 0.0463\tTrain accuracy: 99.41\tValid accuracy: 98.69\n",
      "18:40:52 Epoch: 7\tTrain loss: 0.0226\tValid loss: 0.0411\tTrain accuracy: 99.54\tValid accuracy: 98.68\n",
      "18:41:22 Epoch: 8\tTrain loss: 0.0194\tValid loss: 0.0457\tTrain accuracy: 99.32\tValid accuracy: 98.67\n",
      "18:41:51 Epoch: 9\tTrain loss: 0.0179\tValid loss: 0.0393\tTrain accuracy: 99.69\tValid accuracy: 98.75\n",
      "18:42:19 Epoch: 10\tTrain loss: 0.0152\tValid loss: 0.0430\tTrain accuracy: 99.54\tValid accuracy: 98.80\n",
      "18:42:48 Epoch: 11\tTrain loss: 0.0149\tValid loss: 0.0400\tTrain accuracy: 99.69\tValid accuracy: 98.80\n",
      "18:43:17 Epoch: 12\tTrain loss: 0.0121\tValid loss: 0.0483\tTrain accuracy: 99.52\tValid accuracy: 98.61\n",
      "18:43:48 Epoch: 13\tTrain loss: 0.0129\tValid loss: 0.0458\tTrain accuracy: 99.67\tValid accuracy: 98.85\n",
      "18:44:23 Epoch: 14\tTrain loss: 0.0105\tValid loss: 0.0416\tTrain accuracy: 99.78\tValid accuracy: 98.86\n"
     ]
    },
    {
     "data": {
      "image/png": "[encoded data removed]",
      "text/plain": [
       "<Figure size 1600x450 with 2 Axes>"
      ]
     },
     "metadata": {},
     "output_type": "display_data"
    }
   ],
   "source": [
    "model, optimizer, performance_1 = training_loop(model, criterion, optimizer, train_loader, valid_loader, N_EPOCHS)\n",
    "plot_performance(performance_1)"
   ]
  },
  {
   "cell_type": "code",
   "execution_count": 26,
   "metadata": {},
   "outputs": [],
   "source": [
    "def count_parameters(model):\n",
    "    total_params = 0\n",
    "    for name, parameter in model.named_parameters():\n",
    "        if not parameter.requires_grad: \n",
    "            continue\n",
    "        param = parameter.numel()\n",
    "        total_params+=param\n",
    "    print(f\"Total Trainable Params: {total_params}\")\n",
    "    return total_params"
   ]
  },
  {
   "attachments": {},
   "cell_type": "markdown",
   "metadata": {},
   "source": [
    "### 3.4.1\n",
    "- What is the number of trainable parameters of LeNet?"
   ]
  },
  {
   "cell_type": "code",
   "execution_count": 102,
   "metadata": {},
   "outputs": [
    {
     "name": "stdout",
     "output_type": "stream",
     "text": [
      "Total Trainable Params: 61706\n"
     ]
    },
    {
     "data": {
      "text/plain": [
       "61706"
      ]
     },
     "execution_count": 102,
     "metadata": {},
     "output_type": "execute_result"
    }
   ],
   "source": [
    "LeNet5_parameter_cnt = count_parameters(model)\n",
    "LeNet5_parameter_cnt"
   ]
  },
  {
   "attachments": {},
   "cell_type": "markdown",
   "metadata": {},
   "source": [
    "## 3.3.2\n",
    "- Train the MLP with hidder layers of [256, 64, 16]. Plot and report its performance."
   ]
  },
  {
   "cell_type": "code",
   "execution_count": 22,
   "metadata": {},
   "outputs": [
    {
     "name": "stdout",
     "output_type": "stream",
     "text": [
      "MLP(\n",
      "  (feature_transformer): Sequential(\n",
      "    (0): Linear(in_features=1024, out_features=256, bias=True)\n",
      "    (1): Tanh()\n",
      "    (2): Linear(in_features=256, out_features=64, bias=True)\n",
      "    (3): Tanh()\n",
      "    (4): Linear(in_features=64, out_features=16, bias=True)\n",
      "    (5): Tanh()\n",
      "  )\n",
      "  (classifier): Sequential(\n",
      "    (0): Linear(in_features=16, out_features=10, bias=True)\n",
      "  )\n",
      ")\n"
     ]
    }
   ],
   "source": [
    "torch.manual_seed(RANDOM_SEED)\n",
    "layers = [1024, 256, 64, 16, N_CLASSES]\n",
    "model = MLP(layers)\n",
    "print(model)\n",
    "optimizer = torch.optim.Adam(model.parameters(), lr=LEARNING_RATE)\n",
    "criterion = nn.CrossEntropyLoss()"
   ]
  },
  {
   "cell_type": "code",
   "execution_count": 23,
   "metadata": {},
   "outputs": [
    {
     "name": "stdout",
     "output_type": "stream",
     "text": [
      "15:24:48 Epoch: 0\tTrain loss: 0.3575\tValid loss: 0.1636\tTrain accuracy: 95.61\tValid accuracy: 95.23\n",
      "15:25:13 Epoch: 1\tTrain loss: 0.1311\tValid loss: 0.1300\tTrain accuracy: 96.74\tValid accuracy: 96.19\n",
      "15:25:38 Epoch: 2\tTrain loss: 0.0921\tValid loss: 0.1026\tTrain accuracy: 98.02\tValid accuracy: 97.05\n",
      "15:26:02 Epoch: 3\tTrain loss: 0.0721\tValid loss: 0.0923\tTrain accuracy: 98.21\tValid accuracy: 97.14\n",
      "15:26:27 Epoch: 4\tTrain loss: 0.0607\tValid loss: 0.0807\tTrain accuracy: 98.65\tValid accuracy: 97.46\n",
      "15:26:53 Epoch: 5\tTrain loss: 0.0490\tValid loss: 0.0820\tTrain accuracy: 98.81\tValid accuracy: 97.56\n",
      "15:27:17 Epoch: 6\tTrain loss: 0.0442\tValid loss: 0.0842\tTrain accuracy: 98.98\tValid accuracy: 97.55\n",
      "15:27:38 Epoch: 7\tTrain loss: 0.0370\tValid loss: 0.0755\tTrain accuracy: 99.17\tValid accuracy: 97.93\n",
      "15:28:01 Epoch: 8\tTrain loss: 0.0334\tValid loss: 0.0816\tTrain accuracy: 99.21\tValid accuracy: 97.65\n",
      "15:28:22 Epoch: 9\tTrain loss: 0.0315\tValid loss: 0.0859\tTrain accuracy: 99.15\tValid accuracy: 97.61\n",
      "15:28:43 Epoch: 10\tTrain loss: 0.0273\tValid loss: 0.0860\tTrain accuracy: 99.27\tValid accuracy: 97.65\n",
      "15:29:03 Epoch: 11\tTrain loss: 0.0259\tValid loss: 0.0893\tTrain accuracy: 99.18\tValid accuracy: 97.53\n",
      "15:29:27 Epoch: 12\tTrain loss: 0.0253\tValid loss: 0.0884\tTrain accuracy: 99.29\tValid accuracy: 97.64\n",
      "15:29:53 Epoch: 13\tTrain loss: 0.0239\tValid loss: 0.0895\tTrain accuracy: 99.28\tValid accuracy: 97.64\n",
      "15:30:18 Epoch: 14\tTrain loss: 0.0208\tValid loss: 0.0815\tTrain accuracy: 99.52\tValid accuracy: 97.71\n"
     ]
    }
   ],
   "source": [
    "model, optimizer, performance_2 = training_loop(model, criterion, optimizer, train_loader, valid_loader, N_EPOCHS)"
   ]
  },
  {
   "cell_type": "code",
   "execution_count": 24,
   "metadata": {},
   "outputs": [
    {
     "data": {
      "image/png": "[encoded data removed]",
      "text/plain": [
       "<Figure size 1600x450 with 2 Axes>"
      ]
     },
     "metadata": {},
     "output_type": "display_data"
    }
   ],
   "source": [
    "plot_performance(performance_2)"
   ]
  },
  {
   "attachments": {},
   "cell_type": "markdown",
   "metadata": {},
   "source": [
    "### 3.4.2\n",
    "- What is the number of trainable parameters of MLP?"
   ]
  },
  {
   "cell_type": "code",
   "execution_count": 27,
   "metadata": {},
   "outputs": [
    {
     "name": "stdout",
     "output_type": "stream",
     "text": [
      "Total Trainable Params: 280058\n"
     ]
    },
    {
     "data": {
      "text/plain": [
       "280058"
      ]
     },
     "execution_count": 27,
     "metadata": {},
     "output_type": "execute_result"
    }
   ],
   "source": [
    "MLP_parameter_cnt = count_parameters(model)\n",
    "MLP_parameter_cnt"
   ]
  },
  {
   "attachments": {},
   "cell_type": "markdown",
   "metadata": {},
   "source": [
    "### 3.4.3\n",
    "- Which model has better performance in terms of prediction accuracy on the test data? Give a reason why this model works better than the other."
   ]
  },
  {
   "attachments": {},
   "cell_type": "markdown",
   "metadata": {},
   "source": [
    "The LeNet5 model has better prediction accuracy as it has a 98.86% validation accuracy after convergence, meanwhile the Multi-Layer Perceptron has a 97.64% validation accuracy. The LeNet5 has better prediction accuracy because of its archiecture and design. The kernels within the convolutional layers of the LeNet5 model allows the neural network to learn latent patterns of images in blocks (kernels) of images. Additionally, the average pooling helps the LeNet5 achieve translational invariance. The MLP does not gain as much insight on the bigger picture latent patterns since it does not have a kernel. Another notable difference is the MLP has a lot more trainable parameters, 280,058, compared to the LeNet5, 61,706. Having far less parameters makes the LeNet5 model more scalable and ultimately more practical."
   ]
  },
  {
   "cell_type": "markdown",
   "metadata": {},
   "source": []
  }
 ],
 "metadata": {
  "kernelspec": {
   "display_name": "base",
   "language": "python",
   "name": "python3"
  },
  "language_info": {
   "codemirror_mode": {
    "name": "ipython",
    "version": 3
   },
   "file_extension": ".py",
   "mimetype": "text/x-python",
   "name": "python",
   "nbconvert_exporter": "python",
   "pygments_lexer": "ipython3",
   "version": "3.8.13"
  },
  "vscode": {
   "interpreter": {
    "hash": "07a3f7abd0f368e494ac798bd5d4660b7caffef032c09d3674dea485d520459e"
   }
  }
 },
 "nbformat": 4,
 "nbformat_minor": 4
}
